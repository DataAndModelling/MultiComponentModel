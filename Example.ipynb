{
 "cells": [
  {
   "cell_type": "markdown",
   "id": "1e6bff46-2ea4-4189-962c-986237b13c20",
   "metadata": {},
   "source": [
    "# Multi-Component Vehicles and the Reparable Spares Notes\n",
    "\n",
    "This notebook provides some explanation behind the logic behind the reparable spares model used to represent multi-component vehicles, and how to use the module functions.\n",
    "\n"
   ]
  },
  {
   "cell_type": "markdown",
   "id": "0d79a0a9-553d-4610-9158-7980c87d12d0",
   "metadata": {},
   "source": [
    "Lets take the example of a fleet of cars owned by a delivery company. The company manages its maintenance repair and overhaul in house, and as such, is interested in how many spare parts it should procure for its fleet. The spares bought will affect the servicability of its fleet, and also the cost. \n",
    "\n"
   ]
  },
  {
   "cell_type": "markdown",
   "id": "9223b3f5-03d7-468d-bdbb-d6d7d5a06bfd",
   "metadata": {},
   "source": [
    "# Node Model \n",
    "\n",
    "Each car can be approximated as a series of nodes, which are the components which make up the car.\n",
    "\n",
    "So we can create a \"Blueprint\" model of the car out of all these nodes. \n",
    "\n",
    "The nodes can be modelled with a simple hierachical model:\n",
    "\n",
    "Node Name, Part Type/Number, Child Nodes\n",
    "\n",
    "eg\n",
    "\n",
    "node- Car, Chasis, Children = [Engine, Chasis]\n",
    "\n",
    "node - Engine, Engine V8, Children = [Oil Pump]\n",
    "\n",
    "node - Chasis, Frame, Childern = [Left Front Wheel, Right Front Wheel, Left Rear WHeel, Right Rear Wheel]\n",
    "\n",
    "node - Left Front Wheel, Wheel, Children = None\n",
    "\n",
    "node - Right Front Wheel, Wheel, Children = None\n",
    "\n",
    "node - Left Rear WHeel, Wheel, Children = None\n",
    "\n",
    "node - Right Rear Wheel, Wheel, Children = None\n",
    "\n",
    "node - Oil Pump, Oil Pump Model X, Children = None "
   ]
  },
  {
   "cell_type": "markdown",
   "id": "ef52a1c4-bb33-437b-87da-89204ef018bf",
   "metadata": {},
   "source": [
    "# Parts Populating Nodes\n",
    "\n",
    "To have a functioning car, all the nodes in the blueprint need to be occupied by a distinct component which suits the specific node (i.e. Wheel in Left Rear Wheel Node) and is also serviceable.\n",
    "\n",
    "So we need a separate class from the Nodes to house all the useful attribute information about the component.\n",
    "\n",
    "One important attribute is whether a component is reparable or consumable, i.e. if it breaks or needs maintenance, do you spend the effort to fix it or just throw the part away and replace it with a new part.\n",
    "\n",
    "Expensive parts tend to be reparable because of the sheer cost of procuring a new part. Consumables on the other hand tend to be cheap.\n"
   ]
  },
  {
   "cell_type": "markdown",
   "id": "01e2879d-d8b9-4572-ad62-20da4b4925f3",
   "metadata": {},
   "source": [
    "# Problem statements to solve\n",
    "\n",
    "In general for a multi-component vehicle, a business owner would like to minimise his spending on spare parts for the components, while reaching certain serviceability levels which his customers are happy with. \n",
    "\n",
    "For consumable spares, since they are thrown away, the average rate of consumption can be calculated, and from there stock holding levels optimised against MOQ and re-stock times. A poisson model can be used to approximate the holdings needed. \n",
    "\n",
    "For reparable spares, since they are repaired, a more complex model is needed. The Turn Around Time for the component to be repaired also affects the serviceability of the fleet (which in turn affects revenue). Mistakes in procurement of reparable spares can also be costly to fix downstream (since they cost so much), and also have substantial procurement lead times (so they cannot be fixed overnight). \n",
    "\n",
    "So in general, there are two questions to answer for reparable spares:\n",
    "1) Given a fixed budget, what is the ideal procurement number of each spare?\n",
    "2) Given a varying scale of budgets, what serviceability of my fleet can I expect?\n",
    "\n",
    "These are on contigent that the mission profile is done correctly. \n",
    "\n"
   ]
  },
  {
   "cell_type": "markdown",
   "id": "eb57ddf9-002a-4b12-91b6-ee8393520eda",
   "metadata": {},
   "source": [
    "Lets go into the coding aspect of this.\n",
    "\n",
    "First, import all the needed functions from the libraries"
   ]
  },
  {
   "cell_type": "code",
   "execution_count": null,
   "id": "3a32135b-f781-4eb9-bf9b-6663ab64e538",
   "metadata": {},
   "outputs": [],
   "source": [
    "#!pip install openpyxl\n",
    "#!pip install matplotlib\n",
    "# i dont think i used anything else"
   ]
  },
  {
   "cell_type": "code",
   "execution_count": null,
   "id": "7c82b510-5ea6-4df1-a59f-4cacd419fcea",
   "metadata": {},
   "outputs": [],
   "source": [
    "import copy\n",
    "import math\n",
    "\n",
    "from logger import get_logger\n",
    "from classes import Part_physical, Part_attributes, Car\n",
    "from reader import load_part_attributes, load_blueprints\n",
    "from mathstuff import gamma_approx, weibull_mean\n",
    "from runners import do_one_run, do_first_allocation, get_new_service\n",
    "from plotter import plot_partnumber_all, plot_partnumber_values, plot_budget_serv, plot_serv\n",
    "\n",
    "logger = get_logger()"
   ]
  },
  {
   "cell_type": "markdown",
   "id": "8c7a701c-8ec0-42b0-b571-4f5efd256b42",
   "metadata": {},
   "source": [
    "# Parts_data Class\n",
    "\n",
    "The parts_data has attributes pertaining to a part number / component. Hereafter the two terms will be used interchangabily.\n",
    "\n",
    "Objects in this class have the following key attributes:\n",
    "\n",
    "part_object = Part_attributes(\n",
    "    name=part_type,\n",
    "    failure_hours=failure_hours,\n",
    "    life_limit=life_limit,\n",
    "    shape_factor=shape_factor,\n",
    "    cost=cost,\n",
    "    depot_overhaul=oh_limit,\n",
    "    depot_tat=depot_tat,\n",
    "    placeholder=placeholder\n",
    ")\n",
    "\n",
    "Some explanations for the less obvious attributes:\n",
    "\n",
    "- depot_tat (depot turn around time),\n",
    "- oh_limit (overhaul limit),\n",
    "- Failure Hours (scale factor),\n",
    "- and Shape factor. \n",
    "\n",
    "depot_tat is the turn around time which the part needs to spend at the depot to be fixed or serviced. \n",
    "\n",
    "Overhaul limits refer to scheduled timings for maintenance on the reparable part to restore it to full working condition. \n",
    "\n",
    "Shape and scale factor pertain to weibull distribution which describe the unscheduled timings for the repair, ie it describes when it breaks with respect to time. This is a more flexible way of describing failure modes to both technical and non technical people, the shape factor describes the type (eg infant mortality, random failure, or wearout)"
   ]
  },
  {
   "cell_type": "markdown",
   "id": "22638c3a-7216-42a1-9ddb-66c98ed548f9",
   "metadata": {},
   "source": [
    "These can be ready filled in with an excel programme or equivalent (save it as a csv)\n",
    "\n",
    "Each row should consists of the following:\n",
    "part_type, failure_hours, life_limit, oh_limit, shape_factor, cost, depot_tat, placeholder \n",
    "\n",
    "Lets take a look at the excel file called parts_data.\n"
   ]
  },
  {
   "cell_type": "code",
   "execution_count": null,
   "id": "e6fbd4a7-df10-4d49-9cc6-f52d73ee1195",
   "metadata": {},
   "outputs": [],
   "source": [
    "part_objects = load_part_attributes()\n"
   ]
  },
  {
   "cell_type": "markdown",
   "id": "ba28309b-5118-4896-ba0f-f586ca62a207",
   "metadata": {},
   "source": [
    "part_objects\n",
    "{'Vehicle_blueprint': PartBlueprint(Name: Vehicle, Failure Hours: inf, Life Limit: inf, Depot Limit: inf, Depot Repair: inf, Depot Overhaul: inf, Shape Factor: 1, Depot TAT: 0, Cost: 0, Placeholder: False),\n",
    "\n",
    "'Engine_blueprint': PartBlueprint(Name: Engine, Failure Hours: 1000, Life Limit: inf, Depot Limit: inf, Depot Repair: inf, Depot Overhaul: 10000, Shape Factor: 1, Depot TAT: 14, Cost: 1000, Placeholder: False),\n",
    "\n",
    "'Chasis_blueprint': PartBlueprint(Name: Chasis, Failure Hours: inf, Life Limit: inf, Depot Limit: inf, Depot Repair: inf, Depot Overhaul: inf, Shape Factor: 1, Depot TAT: 0, Cost: 0, Placeholder: False), \n",
    "\n",
    "'Piston_blueprint': PartBlueprint(Name: Piston, Failure Hours: inf, Life Limit: inf, Depot Limit: inf, Depot Repair: inf, Depot Overhaul: inf, Shape Factor: 1, Depot TAT: 0, Cost: 0, Placeholder: False), \n",
    "\n",
    "'Wheel_blueprint': PartBlueprint(Name: Wheel, Failure Hours: 100, Life Limit: inf, Depot Limit: inf, Depot Repair: inf, Depot Overhaul: 80, Shape Factor: 3, Depot TAT: 7, Cost: 10, Placeholder: False)}"
   ]
  },
  {
   "cell_type": "markdown",
   "id": "93c4febf-1791-4c04-bf14-563ee4636628",
   "metadata": {},
   "source": [
    "# Class blueprint \n",
    "\n",
    "After loading the parts, we can know load the blueprints for our car. \n",
    "\n",
    "Each row consists of the following: place, part_type, parent_place\n",
    "\n",
    "This helps to build the nodes of the blueprint which we discussed earlier. \n",
    "\n",
    "Remeber when running any scripts that the part attributes should be loaded first. This tells the script what parts exist. If not the Blueprint will not work!\n"
   ]
  },
  {
   "cell_type": "code",
   "execution_count": null,
   "id": "d12e0c13-ff9d-47e9-93b8-9ce58d1333fb",
   "metadata": {},
   "outputs": [],
   "source": [
    "car_blueprint = load_blueprints()"
   ]
  },
  {
   "cell_type": "code",
   "execution_count": null,
   "id": "25a29b16-7435-4c7a-950f-c172a6994d64",
   "metadata": {},
   "outputs": [],
   "source": [
    "car_blueprint\n",
    "Place: Vehicle, Part Type: Vehicle\n",
    "\tPlace: Engine, Part Type: Engine\n",
    "\t\tPlace: Piston, Part Type: Piston\n",
    "\tPlace: Chasis, Part Type: Chasis\n",
    "\t\tPlace: Front Left Wheel, Part Type: Wheel\n",
    "\t\tPlace: Front Right Wheel, Part Type: Wheel\n",
    "\t\tPlace: Rear Left Wheel, Part Type: Wheel\n",
    "\t\tPlace: Rear Right Wheel, Part Type: Wheel"
   ]
  },
  {
   "cell_type": "markdown",
   "id": "f9fee086-b285-4025-83aa-83764129b6b6",
   "metadata": {},
   "source": [
    "There are also CSV versions in the reader module for quick importation"
   ]
  },
  {
   "cell_type": "markdown",
   "id": "449b52e1-37d8-4acd-8a03-d2bee6ec1610",
   "metadata": {},
   "source": [
    "# Other Classes used\n",
    "\n",
    "There are a couple of other classes in the module to help implement the running of a simulation.\n",
    "\n",
    "Class Part - contains the instances of a specific part. serial number, part type, failure times, operating times etc. It must be created based on an existing part attribute!\n",
    "\n",
    "Class Car - describes the instances of a specific multi-component created according to the specificed blueprint. contains all the parts used to make it up, as well as its overall serviceability"
   ]
  },
  {
   "cell_type": "markdown",
   "id": "deae6939-59e2-4c82-8d4e-d4c1f5834b99",
   "metadata": {},
   "source": [
    "# applying this to a mission profile of a fleet of cars\n",
    "\n",
    "The rough logic for the number of spare parts needed goes like this:\n",
    "\n",
    "for each distinct part number\n",
    "1) get the expected occurence of wear out on a daily basis\n",
    "2) get the expected reparing turn around time\n",
    "3) mulitply the two together. This is the number of spares you should need in order to sustain operations on a consistent basis.\n",
    "4) assign budget based on the ratio of each part number.\n",
    "\n",
    "If the ratio is below 1, then you will suffer from non-availability\n",
    "\n",
    "This assumes that maintenance actions take less time than 1 day to remove and refit a new part. \n",
    "\n",
    "There is also unavoidance maintenance effort downtime will often render your availability of the fleet to be less than 100% on a daily basis. \n",
    "\n",
    "Since there is nothing you can do about this on a spares procurement basis, I normally exclude this from the calculations. So availability should be taken in this context as \"before maintenance effort\". \n"
   ]
  },
  {
   "cell_type": "markdown",
   "id": "84c7c466-6b33-4dd6-be68-973537cb7313",
   "metadata": {},
   "source": [
    "So how do we go around using this via the module functions?\n",
    "\n",
    "Lets set some variables:"
   ]
  },
  {
   "cell_type": "code",
   "execution_count": null,
   "id": "3759d851-eab8-4ec2-bb8c-ce6911cde371",
   "metadata": {},
   "outputs": [],
   "source": [
    "# set mission profile here\n",
    "hours_per_day = 5\n",
    "days = 1000\n",
    "fleet_size = 5"
   ]
  },
  {
   "cell_type": "markdown",
   "id": "8e1a2ad0-c545-483f-9259-36c5fb69d018",
   "metadata": {},
   "source": [
    "Now we start to calculate the number of spares which we should need, following the logic template laid out earlier.\n",
    "\n",
    "First, get the ratio of parts needed in one instance"
   ]
  },
  {
   "cell_type": "code",
   "execution_count": null,
   "id": "642178c3-feae-4515-b4da-eb9fde71335c",
   "metadata": {},
   "outputs": [],
   "source": [
    "part_quantities = car_blueprint.get_part_quantities()"
   ]
  },
  {
   "cell_type": "markdown",
   "id": "00d2ba30-1c48-45dc-be76-0470eda63239",
   "metadata": {},
   "source": [
    "part_quantities\n",
    "{'Vehicle': 1, 'Engine': 1, 'Piston': 1, 'Chasis': 1, 'Wheel': 4}"
   ]
  },
  {
   "cell_type": "markdown",
   "id": "55423805-a8dc-4ec0-b13a-852ae7c1b435",
   "metadata": {},
   "source": [
    "Next, get the MTBF for the parts."
   ]
  },
  {
   "cell_type": "code",
   "execution_count": null,
   "id": "f93cb649-ccdb-4ea3-80a0-aff9d248a084",
   "metadata": {},
   "outputs": [],
   "source": [
    "parts_needed = {}\n",
    "\n",
    "for key, value in part_quantities.items():\n",
    "    for parts in Part_attributes.master_list:\n",
    "        if key == parts.name and parts.depot_tat is not None:\n",
    "            mtbf = weibull_mean(parts.shape_factor, parts.failure_hours)\n",
    "            zero_stoppages = value * fleet_size / mtbf * parts.depot_tat\n",
    "            parts_needed[key] = [zero_stoppages, zero_stoppages * parts.cost]\n"
   ]
  },
  {
   "cell_type": "code",
   "execution_count": null,
   "id": "0260309e-d1fa-4a40-b50e-a1bbb9c79897",
   "metadata": {},
   "outputs": [],
   "source": [
    "for k,v in parts_needed.items():\n",
    "    print(k,v)\n",
    "    \n",
    "Vehicle [0.0, 0.0]\n",
    "Engine [0.07295449845716712, 72.95449845716712]\n",
    "Piston [0.0, 0.0]\n",
    "Chasis [0.0, 0.0]\n",
    "Wheel [1.6671773325635852, 16.671773325635854]"
   ]
  },
  {
   "cell_type": "markdown",
   "id": "d11f0167-d209-4118-9053-7070b1c1b025",
   "metadata": {},
   "source": [
    "scale as per lowest common denominator, which will serve as the first estimate for allocating repairables budget.\n",
    "\n",
    "Note that we only need the non zero items, which indicate that is it reparable."
   ]
  },
  {
   "cell_type": "code",
   "execution_count": null,
   "id": "d46c7043-47c9-4fb8-b50e-aa647747a530",
   "metadata": {},
   "outputs": [],
   "source": [
    "non_zero_parts = {key: value.copy() for key, value in parts_needed.items() if value[0] != 0}\n",
    "lowest_part = min(non_zero_parts, key=lambda x: non_zero_parts[x][0])\n",
    "lowest_value = non_zero_parts[lowest_part][0]\n",
    "\n",
    "for key, value in non_zero_parts.items():\n",
    "    # Append the result of value[1] / lowest_value rounded up\n",
    "    rounded_value = math.ceil(value[0] / lowest_value)  # Example of using length of the string\n",
    "    value.append(rounded_value)"
   ]
  },
  {
   "cell_type": "code",
   "execution_count": null,
   "id": "5063f959-7f9c-455c-a4c4-83e4df4314d8",
   "metadata": {},
   "outputs": [],
   "source": [
    "for k,v in non_zero_parts.items():\n",
    "    print(k,v)\n",
    "    \n",
    "Engine [0.07295449845716712, 72.95449845716712, 1]\n",
    "Wheel [1.6671773325635852, 16.671773325635854, 23]"
   ]
  },
  {
   "cell_type": "markdown",
   "id": "6782d193-443f-4cde-95e9-4971b94f5f9e",
   "metadata": {},
   "source": [
    "lets do 1 run and see what the serviceability and parts look like"
   ]
  },
  {
   "cell_type": "code",
   "execution_count": null,
   "id": "f5aaca26-de0b-4e68-b570-196356fa37ed",
   "metadata": {},
   "outputs": [],
   "source": [
    "budget = 1000"
   ]
  },
  {
   "cell_type": "code",
   "execution_count": null,
   "id": "005b9c3d-6a1f-4145-a4fc-3f7ccc3585be",
   "metadata": {},
   "outputs": [],
   "source": [
    "temp_spares_allocated, budget = do_first_allocation(budget, part_quantities, non_zero_parts, fleet_size)"
   ]
  },
  {
   "cell_type": "markdown",
   "id": "ce6d269f-7a3b-44a3-a67f-7f5c9b10e340",
   "metadata": {},
   "source": [
    "for k,v in temp_spares_allocated.items():\n",
    "    print(k,v)\n",
    "    \n",
    "PartBlueprint(Name: Vehicle, Failure Hours: inf, Life Limit: inf, Depot Limit: inf, Depot Repair: inf, Depot Overhaul: inf, Shape Factor: 1, Depot TAT: 0, Cost: 0, Placeholder: False) 5\n",
    "\n",
    "PartBlueprint(Name: Engine, Failure Hours: 1000, Life Limit: inf, Depot Limit: inf, Depot Repair: inf, Depot Overhaul: 10000, Shape Factor: 1, Depot TAT: 14, Cost: 1000, Placeholder: False) 6\n",
    "\n",
    "PartBlueprint(Name: Piston, Failure Hours: inf, Life Limit: inf, Depot Limit: inf, Depot Repair: inf, Depot Overhaul: inf, Shape Factor: 1, Depot TAT: 0, Cost: 0, Placeholder: False) 5\n",
    "\n",
    "PartBlueprint(Name: Chasis, Failure Hours: inf, Life Limit: inf, Depot Limit: inf, Depot Repair: inf, Depot Overhaul: inf, Shape Factor: 1, Depot TAT: 0, Cost: 0, Placeholder: False) 5\n",
    "\n",
    "PartBlueprint(Name: Wheel, Failure Hours: 100, Life Limit: inf, Depot Limit: inf, Depot Repair: inf, Depot Overhaul: 80, Shape Factor: 3, Depot TAT: 7, Cost: 10, Placeholder: False) 20\n"
   ]
  },
  {
   "cell_type": "markdown",
   "id": "dc849b20-37d9-45ef-83ca-3f60a3eb4d0d",
   "metadata": {},
   "source": [
    "We can see that the code decided to spend all 1000 dollars on a spare engine. There is no budget left for the wheels. We will see later if this is the correct thing to do."
   ]
  },
  {
   "cell_type": "code",
   "execution_count": null,
   "id": "f6a960d6-9989-48b7-b91e-63a433f7d5e6",
   "metadata": {},
   "outputs": [],
   "source": [
    "spares_allocated = copy.deepcopy(temp_spares_allocated)\n",
    "highest_servicability = 0\n",
    "\n",
    "service_current, car_serviceable, car_breakage, serv_tracker, depot_tracker, warehouse_tracker, graveyard_tracker = do_one_run(\n",
    "    spares_allocated, days, fleet_size, hours_per_day, car_blueprint)"
   ]
  },
  {
   "cell_type": "code",
   "execution_count": null,
   "id": "50330e22-a471-4ac6-b766-c5a50f7fc43a",
   "metadata": {},
   "outputs": [],
   "source": [
    "service_current\n",
    "38.839999999999996"
   ]
  },
  {
   "cell_type": "markdown",
   "id": "5d2a91dd-94cc-4e70-aee8-8515609c76c8",
   "metadata": {},
   "source": [
    "you can plot the data if you want from the plotter functions.\n"
   ]
  },
  {
   "cell_type": "code",
   "execution_count": null,
   "id": "c0817a21-d7b9-4483-89ab-f38340659a0c",
   "metadata": {},
   "outputs": [],
   "source": [
    "#plot_serv(car_serviceable,car_breakage)"
   ]
  },
  {
   "cell_type": "markdown",
   "id": "b929b87b-a506-4ba4-b0d4-3a2656d72b4a",
   "metadata": {},
   "source": [
    "Now to optimise the allocation, if possible. we look at the budget left and try to change the combination of spares to see if it can be improved.\n",
    "\n",
    "This is a bit bare bones because it relies on single monte carlo runs. It could be enhanced by doing it 30 times and then taking a certain percentile of servicebility. However it would take a considerable amount of time."
   ]
  },
  {
   "cell_type": "code",
   "execution_count": null,
   "id": "9a8afdd8-2640-47a7-8995-a4ef1395329c",
   "metadata": {},
   "outputs": [],
   "source": [
    "for x2 in range(10):\n",
    "\n",
    "    if service_current > highest_servicability:\n",
    "        highest_servicability = service_current\n",
    "        spares_allocated = copy.deepcopy(temp_spares_allocated)\n",
    "        temp_spares_allocated, budget = get_new_service(days, fleet_size, part_quantities, spares_allocated,\n",
    "                                                        serv_tracker, warehouse_tracker, budget)\n",
    "        Car.reset_all_cars()\n",
    "        Part_physical.reset_master_list()\n",
    "        service_current, car_serviceable, car_breakage, serv_tracker, depot_tracker, warehouse_tracker, graveyard_tracker = do_one_run(\n",
    "            spares_allocated, days, fleet_size, hours_per_day, car_blueprint)\n",
    "    else:\n",
    "        logger.info(\"no more improvements\")\n",
    "        break"
   ]
  },
  {
   "cell_type": "code",
   "execution_count": null,
   "id": "80306394-f63d-4a57-8868-e38222840bcc",
   "metadata": {},
   "outputs": [],
   "source": [
    "logger.warning(f\"Current Serv {service_current}\")\n",
    "2025-07-23 22:21:43,180 - spares_tree - WARNING - Current Serv 38.339999999999996"
   ]
  },
  {
   "cell_type": "markdown",
   "id": "10e81903-07e3-4ed6-8603-ac0288e1fb08",
   "metadata": {},
   "source": [
    "Looks like it wasnt any good at improving.\n"
   ]
  },
  {
   "cell_type": "markdown",
   "id": "9d795c58-8ddf-4945-9447-5008c7102c8f",
   "metadata": {},
   "source": [
    "for k,v in temp_spares_allocated.items():\n",
    "    print(k,v)\n",
    "    \n",
    "PartBlueprint(Name: Vehicle, Failure Hours: inf, Life Limit: inf, Depot Limit: inf, Depot Repair: inf, Depot Overhaul: inf, Shape Factor: 1, Depot TAT: 0, Cost: 0, Placeholder: False) 5\n",
    "\n",
    "PartBlueprint(Name: Engine, Failure Hours: 1000, Life Limit: inf, Depot Limit: inf, Depot Repair: inf, Depot Overhaul: 10000, Shape Factor: 1, Depot TAT: 14, Cost: 1000, Placeholder: False) 6\n",
    "\n",
    "PartBlueprint(Name: Piston, Failure Hours: inf, Life Limit: inf, Depot Limit: inf, Depot Repair: inf, Depot Overhaul: inf, Shape Factor: 1, Depot TAT: 0, Cost: 0, Placeholder: False) 5\n",
    "\n",
    "PartBlueprint(Name: Chasis, Failure Hours: inf, Life Limit: inf, Depot Limit: inf, Depot Repair: inf, Depot Overhaul: inf, Shape Factor: 1, Depot TAT: 0, Cost: 0, Placeholder: False) 5\n",
    "\n",
    "PartBlueprint(Name: Wheel, Failure Hours: 100, Life Limit: inf, Depot Limit: inf, Depot Repair: inf, Depot Overhaul: 80, Shape Factor: 3, Depot TAT: 7, Cost: 10, Placeholder: False) 20\n"
   ]
  },
  {
   "cell_type": "markdown",
   "id": "2e5cdee2-8c34-47ff-a3ac-2ff74cbee3f5",
   "metadata": {},
   "source": [
    "things can get better if we increase the budget. lets do a simple run with the budget at 1000 and 1100 to see the difference."
   ]
  },
  {
   "cell_type": "code",
   "execution_count": null,
   "id": "9e83a1f9-a8a9-4a33-a2c5-0d6fce875de8",
   "metadata": {},
   "outputs": [],
   "source": [
    "service_list.append(highest_servicability)\n",
    "allocation_list.append(spares_allocated)"
   ]
  },
  {
   "cell_type": "code",
   "execution_count": null,
   "id": "c039bdaf-1a9b-49e9-bb12-bc28699f4ea9",
   "metadata": {},
   "outputs": [],
   "source": [
    "budget_list = []\n",
    "service_list = []\n",
    "allocation_list = []\n",
    "\n",
    "for budget in range(1000, 1200, 100):\n",
    "    logger.warning(f\"Running Budget {budget}\")\n",
    "    budget_list.append(budget)\n",
    "\n",
    "    temp_spares_allocated, budget = do_first_allocation(budget, part_quantities, non_zero_parts, fleet_size)\n",
    "    spares_allocated = copy.deepcopy(temp_spares_allocated)\n",
    "\n",
    "    highest_servicability = 0\n",
    "\n",
    "    service_current, car_serviceable, car_breakage, serv_tracker, depot_tracker, warehouse_tracker, graveyard_tracker = do_one_run(\n",
    "        spares_allocated, days, fleet_size, hours_per_day, car_blueprint)\n",
    "\n",
    "    logger.info(service_current)\n",
    "\n",
    "    for x2 in range(10):\n",
    "\n",
    "        if service_current > highest_servicability:\n",
    "            highest_servicability = service_current\n",
    "            spares_allocated = copy.deepcopy(temp_spares_allocated)\n",
    "            temp_spares_allocated, budget = get_new_service(days, fleet_size, part_quantities, spares_allocated,\n",
    "                                                            serv_tracker, warehouse_tracker, budget)\n",
    "            Car.reset_all_cars()\n",
    "            Part_physical.reset_master_list()\n",
    "            service_current, car_serviceable, car_breakage, serv_tracker, depot_tracker, warehouse_tracker, graveyard_tracker = do_one_run(\n",
    "                spares_allocated, days, fleet_size, hours_per_day, car_blueprint)\n",
    "        else:\n",
    "            logger.info(\"no more improvements\")\n",
    "            break\n",
    "    print(highest_servicability)\n",
    "\n",
    "    for key, value in spares_allocated.items():\n",
    "        print(key,value)\n",
    "    service_list.append(highest_servicability)\n",
    "    allocation_list.append(spares_allocated)\n",
    "\n",
    "    Car.reset_all_cars()\n",
    "    Part_physical.reset_master_list()\n"
   ]
  },
  {
   "cell_type": "markdown",
   "id": "4dfc6caf-dc91-4702-a304-3d085b4aca37",
   "metadata": {},
   "source": [
    "\n",
    "92.24\n",
    "\n",
    "PartBlueprint(Name: Vehicle, Failure Hours: inf, Life Limit: inf, Depot Limit: inf, Depot Repair: inf, Depot Overhaul: inf, Shape Factor: 1, Depot TAT: 0, Cost: 0, Placeholder: False) 5\n",
    "\n",
    "PartBlueprint(Name: Engine, Failure Hours: 1000, Life Limit: inf, Depot Limit: inf, Depot Repair: inf, Depot Overhaul: 10000, Shape Factor: 1, Depot TAT: 14, Cost: 1000, Placeholder: False) 6\n",
    "\n",
    "PartBlueprint(Name: Piston, Failure Hours: inf, Life Limit: inf, Depot Limit: inf, Depot Repair: inf, Depot Overhaul: inf, Shape Factor: 1, Depot TAT: 0, Cost: 0, Placeholder: False) 5\n",
    "\n",
    "PartBlueprint(Name: Chasis, Failure Hours: inf, Life Limit: inf, Depot Limit: inf, Depot Repair: inf, Depot Overhaul: inf, Shape Factor: 1, Depot TAT: 0, Cost: 0, Placeholder: False) 5\n",
    "\n",
    "PartBlueprint(Name: Wheel, Failure Hours: 100, Life Limit: inf, Depot Limit: inf, Depot Repair: inf, Depot Overhaul: 80, Shape Factor: 3, Depot TAT: 7, Cost: 10, Placeholder: False) 20\n",
    "\n",
    "97.0\n",
    "\n",
    "PartBlueprint(Name: Vehicle, Failure Hours: inf, Life Limit: inf, Depot Limit: inf, Depot Repair: inf, Depot Overhaul: inf, Shape Factor: 1, Depot TAT: 0, Cost: 0, Placeholder: False) 5\n",
    "\n",
    "PartBlueprint(Name: Engine, Failure Hours: 1000, Life Limit: inf, Depot Limit: inf, Depot Repair: inf, Depot Overhaul: 10000, Shape Factor: 1, Depot TAT: 14, Cost: 1000, Placeholder: False) 6\n",
    "\n",
    "PartBlueprint(Name: Piston, Failure Hours: inf, Life Limit: inf, Depot Limit: inf, Depot Repair: inf, Depot Overhaul: inf, Shape Factor: 1, Depot TAT: 0, Cost: 0, Placeholder: False) 5\n",
    "\n",
    "PartBlueprint(Name: Chasis, Failure Hours: inf, Life Limit: inf, Depot Limit: inf, Depot Repair: inf, Depot Overhaul: inf, Shape Factor: 1, Depot TAT: 0, Cost: 0, Placeholder: False) 5\n",
    "\n",
    "PartBlueprint(Name: Wheel, Failure Hours: 100, Life Limit: inf, Depot Limit: inf, Depot Repair: inf, Depot Overhaul: 80, Shape Factor: 3, Depot TAT: 7, Cost: 10, Placeholder: False) 30\n"
   ]
  },
  {
   "cell_type": "markdown",
   "id": "8f1566f0-7995-4369-a7c7-b4a35b3c0fb5",
   "metadata": {},
   "source": [
    "Horray, our algorithm decided to invest the extra 100 dollars in 10 tires, and it paid off in the terms on servicability."
   ]
  },
  {
   "cell_type": "code",
   "execution_count": null,
   "id": "a66e0440-ac8c-409f-88bc-51a024822bac",
   "metadata": {},
   "outputs": [],
   "source": [
    "#plot_budget_serv(budget_list, service_list)\n",
    "# graph the results if you want. "
   ]
  }
 ],
 "metadata": {
  "kernelspec": {
   "display_name": "Python 3 (ipykernel)",
   "language": "python",
   "name": "python3"
  },
  "language_info": {
   "codemirror_mode": {
    "name": "ipython",
    "version": 3
   },
   "file_extension": ".py",
   "mimetype": "text/x-python",
   "name": "python",
   "nbconvert_exporter": "python",
   "pygments_lexer": "ipython3",
   "version": "3.10.0"
  }
 },
 "nbformat": 4,
 "nbformat_minor": 5
}
